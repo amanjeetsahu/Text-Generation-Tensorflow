{
  "nbformat": 4,
  "nbformat_minor": 0,
  "metadata": {
    "accelerator": "GPU",
    "colab": {
      "name": "Text_Generation_Using_LSTM.ipynb",
      "provenance": []
    },
    "kernelspec": {
      "display_name": "Python 3",
      "language": "python",
      "name": "python3"
    },
    "language_info": {
      "codemirror_mode": {
        "name": "ipython",
        "version": 3
      },
      "file_extension": ".py",
      "mimetype": "text/x-python",
      "name": "python",
      "nbconvert_exporter": "python",
      "pygments_lexer": "ipython3",
      "version": "3.7.4"
    }
  },
  "cells": [
    {
      "cell_type": "code",
      "metadata": {
        "id": "7LSYLmnkB6DJ",
        "colab_type": "code",
        "colab": {
          "base_uri": "https://localhost:8080/",
          "height": 34
        },
        "outputId": "87414fa1-fd81-4974-e247-8782bfefd861"
      },
      "source": [
        "import tensorflow as tf\n",
        "tf.__version__"
      ],
      "execution_count": 1,
      "outputs": [
        {
          "output_type": "execute_result",
          "data": {
            "text/plain": [
              "'2.2.0-rc1'"
            ]
          },
          "metadata": {
            "tags": []
          },
          "execution_count": 1
        }
      ]
    },
    {
      "cell_type": "code",
      "metadata": {
        "colab_type": "code",
        "id": "BOwsuGQQY9OL",
        "colab": {}
      },
      "source": [
        "from tensorflow.keras.preprocessing.sequence import pad_sequences\n",
        "from tensorflow.keras.layers import Embedding, LSTM, Dense, Dropout, Bidirectional\n",
        "from tensorflow.keras.preprocessing.text import Tokenizer\n",
        "from tensorflow.keras.models import Sequential\n",
        "from tensorflow.keras.optimizers import Adam\n",
        "from tensorflow.keras import regularizers\n",
        "import tensorflow.keras.utils as ku \n",
        "import numpy as np "
      ],
      "execution_count": 0,
      "outputs": []
    },
    {
      "cell_type": "code",
      "metadata": {
        "colab_type": "code",
        "id": "PRnDnCW-Z7qv",
        "colab": {
          "base_uri": "https://localhost:8080/",
          "height": 202
        },
        "outputId": "fbc47ac9-51cd-44aa-fe28-aaa9e0f087af"
      },
      "source": [
        "tokenizer = Tokenizer()\n",
        "!wget --no-check-certificate \\\n",
        "    https://storage.googleapis.com/laurencemoroney-blog.appspot.com/sonnets.txt \\\n",
        "    -O /tmp/sonnets.txt\n",
        "data = open('/tmp/sonnets.txt').read()\n",
        "\n",
        "corpus = data.lower().split(\"\\n\")\n",
        "\n",
        "\n",
        "tokenizer.fit_on_texts(corpus)\n",
        "total_words = len(tokenizer.word_index) + 1\n",
        "\n",
        "# create input sequences using list of tokens\n",
        "input_sequences = []\n",
        "for line in corpus:\n",
        "\ttoken_list = tokenizer.texts_to_sequences([line])[0]\n",
        "\tfor i in range(1, len(token_list)):\n",
        "\t\tn_gram_sequence = token_list[:i+1]\n",
        "\t\tinput_sequences.append(n_gram_sequence)\n",
        "\n",
        "\n",
        "# pad sequences \n",
        "max_sequence_len = max([len(x) for x in input_sequences])\n",
        "input_sequences = np.array(pad_sequences(input_sequences, maxlen=max_sequence_len, padding='pre'))\n",
        "\n",
        "# create predictors and label\n",
        "predictors, label = input_sequences[:,:-1],input_sequences[:,-1]\n",
        "\n",
        "label = ku.to_categorical(label, num_classes=total_words)"
      ],
      "execution_count": 3,
      "outputs": [
        {
          "output_type": "stream",
          "text": [
            "--2020-03-29 16:07:32--  https://storage.googleapis.com/laurencemoroney-blog.appspot.com/sonnets.txt\n",
            "Resolving storage.googleapis.com (storage.googleapis.com)... 74.125.24.128, 2404:6800:4003:c03::80\n",
            "Connecting to storage.googleapis.com (storage.googleapis.com)|74.125.24.128|:443... connected.\n",
            "HTTP request sent, awaiting response... 200 OK\n",
            "Length: 93578 (91K) [text/plain]\n",
            "Saving to: ‘/tmp/sonnets.txt’\n",
            "\n",
            "\r/tmp/sonnets.txt      0%[                    ]       0  --.-KB/s               \r/tmp/sonnets.txt    100%[===================>]  91.38K  --.-KB/s    in 0.001s  \n",
            "\n",
            "2020-03-29 16:07:32 (172 MB/s) - ‘/tmp/sonnets.txt’ saved [93578/93578]\n",
            "\n"
          ],
          "name": "stdout"
        }
      ]
    },
    {
      "cell_type": "code",
      "metadata": {
        "colab_type": "code",
        "id": "w9vH8Y59ajYL",
        "colab": {
          "base_uri": "https://localhost:8080/",
          "height": 370
        },
        "outputId": "c74b12a9-3cec-401a-9b00-93a9e723e111"
      },
      "source": [
        "model = Sequential()\n",
        "model.add(Embedding(total_words, 100, input_length=max_sequence_len-1))\n",
        "model.add(Bidirectional(LSTM(150, return_sequences = True)))\n",
        "model.add(Dropout(0.2))\n",
        "model.add(LSTM(100))\n",
        "model.add(Dense(total_words/2, activation='relu', kernel_regularizer=regularizers.l2(0.01)))\n",
        "model.add(Dense(total_words, activation='softmax'))\n",
        "model.compile(loss='categorical_crossentropy', optimizer='adam', metrics=['accuracy'])\n",
        "print(model.summary())\n"
      ],
      "execution_count": 4,
      "outputs": [
        {
          "output_type": "stream",
          "text": [
            "Model: \"sequential\"\n",
            "_________________________________________________________________\n",
            "Layer (type)                 Output Shape              Param #   \n",
            "=================================================================\n",
            "embedding (Embedding)        (None, 10, 100)           321100    \n",
            "_________________________________________________________________\n",
            "bidirectional (Bidirectional (None, 10, 300)           301200    \n",
            "_________________________________________________________________\n",
            "dropout (Dropout)            (None, 10, 300)           0         \n",
            "_________________________________________________________________\n",
            "lstm_1 (LSTM)                (None, 100)               160400    \n",
            "_________________________________________________________________\n",
            "dense (Dense)                (None, 1605)              162105    \n",
            "_________________________________________________________________\n",
            "dense_1 (Dense)              (None, 3211)              5156866   \n",
            "=================================================================\n",
            "Total params: 6,101,671\n",
            "Trainable params: 6,101,671\n",
            "Non-trainable params: 0\n",
            "_________________________________________________________________\n",
            "None\n"
          ],
          "name": "stdout"
        }
      ]
    },
    {
      "cell_type": "code",
      "metadata": {
        "colab_type": "code",
        "id": "AIg2f1HBxqof",
        "colab": {
          "base_uri": "https://localhost:8080/",
          "height": 1000
        },
        "outputId": "a4b9bfe0-8c36-491b-a735-01c9e682c153"
      },
      "source": [
        " history = model.fit(predictors, label, epochs=100, verbose=1)"
      ],
      "execution_count": 5,
      "outputs": [
        {
          "output_type": "stream",
          "text": [
            "Epoch 1/100\n",
            "484/484 [==============================] - 5s 11ms/step - loss: 6.9119 - accuracy: 0.0197\n",
            "Epoch 2/100\n",
            "484/484 [==============================] - 5s 11ms/step - loss: 6.5027 - accuracy: 0.0218\n",
            "Epoch 3/100\n",
            "484/484 [==============================] - 5s 11ms/step - loss: 6.4144 - accuracy: 0.0248\n",
            "Epoch 4/100\n",
            "484/484 [==============================] - 5s 11ms/step - loss: 6.2951 - accuracy: 0.0291\n",
            "Epoch 5/100\n",
            "484/484 [==============================] - 5s 11ms/step - loss: 6.1949 - accuracy: 0.0330\n",
            "Epoch 6/100\n",
            "484/484 [==============================] - 5s 11ms/step - loss: 6.1116 - accuracy: 0.0381\n",
            "Epoch 7/100\n",
            "484/484 [==============================] - 5s 11ms/step - loss: 6.0274 - accuracy: 0.0389\n",
            "Epoch 8/100\n",
            "484/484 [==============================] - 6s 11ms/step - loss: 5.9507 - accuracy: 0.0437\n",
            "Epoch 9/100\n",
            "484/484 [==============================] - 5s 11ms/step - loss: 5.8669 - accuracy: 0.0509\n",
            "Epoch 10/100\n",
            "484/484 [==============================] - 5s 11ms/step - loss: 5.7615 - accuracy: 0.0590\n",
            "Epoch 11/100\n",
            "484/484 [==============================] - 5s 11ms/step - loss: 5.6508 - accuracy: 0.0649\n",
            "Epoch 12/100\n",
            "484/484 [==============================] - 5s 11ms/step - loss: 5.5436 - accuracy: 0.0709\n",
            "Epoch 13/100\n",
            "484/484 [==============================] - 5s 11ms/step - loss: 5.4377 - accuracy: 0.0786\n",
            "Epoch 14/100\n",
            "484/484 [==============================] - 5s 11ms/step - loss: 5.3352 - accuracy: 0.0811\n",
            "Epoch 15/100\n",
            "484/484 [==============================] - 5s 11ms/step - loss: 5.2301 - accuracy: 0.0910\n",
            "Epoch 16/100\n",
            "484/484 [==============================] - 5s 11ms/step - loss: 5.1329 - accuracy: 0.0968\n",
            "Epoch 17/100\n",
            "484/484 [==============================] - 5s 11ms/step - loss: 5.0386 - accuracy: 0.1084\n",
            "Epoch 18/100\n",
            "484/484 [==============================] - 5s 11ms/step - loss: 4.9443 - accuracy: 0.1125\n",
            "Epoch 19/100\n",
            "484/484 [==============================] - 5s 11ms/step - loss: 4.8458 - accuracy: 0.1213\n",
            "Epoch 20/100\n",
            "484/484 [==============================] - 5s 11ms/step - loss: 4.7567 - accuracy: 0.1312\n",
            "Epoch 21/100\n",
            "484/484 [==============================] - 5s 11ms/step - loss: 4.6569 - accuracy: 0.1431\n",
            "Epoch 22/100\n",
            "484/484 [==============================] - 5s 11ms/step - loss: 4.5558 - accuracy: 0.1574\n",
            "Epoch 23/100\n",
            "484/484 [==============================] - 5s 11ms/step - loss: 4.4587 - accuracy: 0.1660\n",
            "Epoch 24/100\n",
            "484/484 [==============================] - 5s 11ms/step - loss: 4.3698 - accuracy: 0.1751\n",
            "Epoch 25/100\n",
            "484/484 [==============================] - 5s 11ms/step - loss: 4.2710 - accuracy: 0.1892\n",
            "Epoch 26/100\n",
            "484/484 [==============================] - 6s 11ms/step - loss: 4.1809 - accuracy: 0.1989\n",
            "Epoch 27/100\n",
            "484/484 [==============================] - 6s 12ms/step - loss: 4.0835 - accuracy: 0.2102\n",
            "Epoch 28/100\n",
            "484/484 [==============================] - 5s 11ms/step - loss: 3.9914 - accuracy: 0.2251\n",
            "Epoch 29/100\n",
            "484/484 [==============================] - 5s 11ms/step - loss: 3.8954 - accuracy: 0.2379\n",
            "Epoch 30/100\n",
            "484/484 [==============================] - 6s 12ms/step - loss: 3.8028 - accuracy: 0.2505\n",
            "Epoch 31/100\n",
            "484/484 [==============================] - 5s 11ms/step - loss: 3.7017 - accuracy: 0.2657\n",
            "Epoch 32/100\n",
            "484/484 [==============================] - 5s 11ms/step - loss: 3.6251 - accuracy: 0.2839\n",
            "Epoch 33/100\n",
            "484/484 [==============================] - 5s 11ms/step - loss: 3.5346 - accuracy: 0.2981\n",
            "Epoch 34/100\n",
            "484/484 [==============================] - 5s 11ms/step - loss: 3.4551 - accuracy: 0.3143\n",
            "Epoch 35/100\n",
            "484/484 [==============================] - 5s 11ms/step - loss: 3.3680 - accuracy: 0.3340\n",
            "Epoch 36/100\n",
            "484/484 [==============================] - 5s 11ms/step - loss: 3.2997 - accuracy: 0.3452\n",
            "Epoch 37/100\n",
            "484/484 [==============================] - 5s 11ms/step - loss: 3.2232 - accuracy: 0.3665\n",
            "Epoch 38/100\n",
            "484/484 [==============================] - 5s 11ms/step - loss: 3.1422 - accuracy: 0.3816\n",
            "Epoch 39/100\n",
            "484/484 [==============================] - 5s 11ms/step - loss: 3.0765 - accuracy: 0.4000\n",
            "Epoch 40/100\n",
            "484/484 [==============================] - 5s 11ms/step - loss: 3.0046 - accuracy: 0.4142\n",
            "Epoch 41/100\n",
            "484/484 [==============================] - 5s 11ms/step - loss: 2.9265 - accuracy: 0.4280\n",
            "Epoch 42/100\n",
            "484/484 [==============================] - 5s 11ms/step - loss: 2.8681 - accuracy: 0.4422\n",
            "Epoch 43/100\n",
            "484/484 [==============================] - 5s 11ms/step - loss: 2.8050 - accuracy: 0.4569\n",
            "Epoch 44/100\n",
            "484/484 [==============================] - 5s 11ms/step - loss: 2.7418 - accuracy: 0.4719\n",
            "Epoch 45/100\n",
            "484/484 [==============================] - 5s 11ms/step - loss: 2.6812 - accuracy: 0.4868\n",
            "Epoch 46/100\n",
            "484/484 [==============================] - 5s 11ms/step - loss: 2.6390 - accuracy: 0.4918\n",
            "Epoch 47/100\n",
            "484/484 [==============================] - 5s 11ms/step - loss: 2.5730 - accuracy: 0.5104\n",
            "Epoch 48/100\n",
            "484/484 [==============================] - 5s 11ms/step - loss: 2.5328 - accuracy: 0.5211\n",
            "Epoch 49/100\n",
            "484/484 [==============================] - 6s 12ms/step - loss: 2.4713 - accuracy: 0.5341\n",
            "Epoch 50/100\n",
            "484/484 [==============================] - 5s 11ms/step - loss: 2.4123 - accuracy: 0.5444\n",
            "Epoch 51/100\n",
            "484/484 [==============================] - 5s 11ms/step - loss: 2.3747 - accuracy: 0.5539\n",
            "Epoch 52/100\n",
            "484/484 [==============================] - 6s 11ms/step - loss: 2.3264 - accuracy: 0.5647\n",
            "Epoch 53/100\n",
            "484/484 [==============================] - 5s 11ms/step - loss: 2.2892 - accuracy: 0.5723\n",
            "Epoch 54/100\n",
            "484/484 [==============================] - 5s 11ms/step - loss: 2.2480 - accuracy: 0.5778\n",
            "Epoch 55/100\n",
            "484/484 [==============================] - 5s 11ms/step - loss: 2.1921 - accuracy: 0.5951\n",
            "Epoch 56/100\n",
            "484/484 [==============================] - 5s 11ms/step - loss: 2.1501 - accuracy: 0.6021\n",
            "Epoch 57/100\n",
            "484/484 [==============================] - 5s 11ms/step - loss: 2.1128 - accuracy: 0.6072\n",
            "Epoch 58/100\n",
            "484/484 [==============================] - 5s 11ms/step - loss: 2.0762 - accuracy: 0.6158\n",
            "Epoch 59/100\n",
            "484/484 [==============================] - 5s 11ms/step - loss: 2.0402 - accuracy: 0.6253\n",
            "Epoch 60/100\n",
            "484/484 [==============================] - 5s 11ms/step - loss: 2.0034 - accuracy: 0.6313\n",
            "Epoch 61/100\n",
            "484/484 [==============================] - 5s 11ms/step - loss: 1.9816 - accuracy: 0.6437\n",
            "Epoch 62/100\n",
            "484/484 [==============================] - 5s 11ms/step - loss: 1.9377 - accuracy: 0.6497\n",
            "Epoch 63/100\n",
            "484/484 [==============================] - 5s 11ms/step - loss: 1.9046 - accuracy: 0.6546\n",
            "Epoch 64/100\n",
            "484/484 [==============================] - 5s 11ms/step - loss: 1.8573 - accuracy: 0.6645\n",
            "Epoch 65/100\n",
            "484/484 [==============================] - 5s 11ms/step - loss: 1.8262 - accuracy: 0.6713\n",
            "Epoch 66/100\n",
            "484/484 [==============================] - 5s 11ms/step - loss: 1.8030 - accuracy: 0.6742\n",
            "Epoch 67/100\n",
            "484/484 [==============================] - 5s 11ms/step - loss: 1.7786 - accuracy: 0.6809\n",
            "Epoch 68/100\n",
            "484/484 [==============================] - 5s 11ms/step - loss: 1.7578 - accuracy: 0.6854\n",
            "Epoch 69/100\n",
            "484/484 [==============================] - 5s 11ms/step - loss: 1.7171 - accuracy: 0.6970\n",
            "Epoch 70/100\n",
            "484/484 [==============================] - 5s 11ms/step - loss: 1.6915 - accuracy: 0.7016\n",
            "Epoch 71/100\n",
            "484/484 [==============================] - 5s 11ms/step - loss: 1.6717 - accuracy: 0.7057\n",
            "Epoch 72/100\n",
            "484/484 [==============================] - 5s 11ms/step - loss: 1.6566 - accuracy: 0.7039\n",
            "Epoch 73/100\n",
            "484/484 [==============================] - 5s 11ms/step - loss: 1.6158 - accuracy: 0.7137\n",
            "Epoch 74/100\n",
            "484/484 [==============================] - 5s 11ms/step - loss: 1.5929 - accuracy: 0.7220\n",
            "Epoch 75/100\n",
            "484/484 [==============================] - 5s 11ms/step - loss: 1.5758 - accuracy: 0.7260\n",
            "Epoch 76/100\n",
            "484/484 [==============================] - 5s 11ms/step - loss: 1.5438 - accuracy: 0.7332\n",
            "Epoch 77/100\n",
            "484/484 [==============================] - 5s 11ms/step - loss: 1.5243 - accuracy: 0.7345\n",
            "Epoch 78/100\n",
            "484/484 [==============================] - 5s 11ms/step - loss: 1.5070 - accuracy: 0.7324\n",
            "Epoch 79/100\n",
            "484/484 [==============================] - 5s 11ms/step - loss: 1.4880 - accuracy: 0.7432\n",
            "Epoch 80/100\n",
            "484/484 [==============================] - 5s 11ms/step - loss: 1.4799 - accuracy: 0.7423\n",
            "Epoch 81/100\n",
            "484/484 [==============================] - 5s 11ms/step - loss: 1.4385 - accuracy: 0.7525\n",
            "Epoch 82/100\n",
            "484/484 [==============================] - 5s 11ms/step - loss: 1.4359 - accuracy: 0.7509\n",
            "Epoch 83/100\n",
            "484/484 [==============================] - 5s 11ms/step - loss: 1.4059 - accuracy: 0.7587\n",
            "Epoch 84/100\n",
            "484/484 [==============================] - 6s 12ms/step - loss: 1.3981 - accuracy: 0.7563\n",
            "Epoch 85/100\n",
            "484/484 [==============================] - 6s 12ms/step - loss: 1.3903 - accuracy: 0.7553\n",
            "Epoch 86/100\n",
            "484/484 [==============================] - 5s 11ms/step - loss: 1.3655 - accuracy: 0.7652\n",
            "Epoch 87/100\n",
            "484/484 [==============================] - 5s 11ms/step - loss: 1.3425 - accuracy: 0.7696\n",
            "Epoch 88/100\n",
            "484/484 [==============================] - 5s 11ms/step - loss: 1.3394 - accuracy: 0.7660\n",
            "Epoch 89/100\n",
            "484/484 [==============================] - 5s 11ms/step - loss: 1.3246 - accuracy: 0.7739\n",
            "Epoch 90/100\n",
            "484/484 [==============================] - 5s 11ms/step - loss: 1.3044 - accuracy: 0.7751\n",
            "Epoch 91/100\n",
            "484/484 [==============================] - 5s 11ms/step - loss: 1.2906 - accuracy: 0.7761\n",
            "Epoch 92/100\n",
            "484/484 [==============================] - 5s 11ms/step - loss: 1.2806 - accuracy: 0.7804\n",
            "Epoch 93/100\n",
            "484/484 [==============================] - 5s 11ms/step - loss: 1.2672 - accuracy: 0.7803\n",
            "Epoch 94/100\n",
            "484/484 [==============================] - 5s 11ms/step - loss: 1.2615 - accuracy: 0.7810\n",
            "Epoch 95/100\n",
            "484/484 [==============================] - 5s 11ms/step - loss: 1.2441 - accuracy: 0.7857\n",
            "Epoch 96/100\n",
            "484/484 [==============================] - 5s 11ms/step - loss: 1.2352 - accuracy: 0.7868\n",
            "Epoch 97/100\n",
            "484/484 [==============================] - 5s 11ms/step - loss: 1.2249 - accuracy: 0.7864\n",
            "Epoch 98/100\n",
            "484/484 [==============================] - 5s 11ms/step - loss: 1.2098 - accuracy: 0.7924\n",
            "Epoch 99/100\n",
            "484/484 [==============================] - 5s 11ms/step - loss: 1.2042 - accuracy: 0.7905\n",
            "Epoch 100/100\n",
            "484/484 [==============================] - 5s 11ms/step - loss: 1.1869 - accuracy: 0.7938\n"
          ],
          "name": "stdout"
        }
      ]
    },
    {
      "cell_type": "code",
      "metadata": {
        "colab_type": "code",
        "id": "1fXTEO3GJ282",
        "colab": {
          "base_uri": "https://localhost:8080/",
          "height": 545
        },
        "outputId": "8a909882-1e89-419c-8735-ab8ac328fd11"
      },
      "source": [
        "import matplotlib.pyplot as plt\n",
        "acc = history.history['accuracy']\n",
        "loss = history.history['loss']\n",
        "\n",
        "epochs = range(len(acc))\n",
        "\n",
        "plt.plot(epochs, acc, 'b', label='Training accuracy')\n",
        "plt.title('Training accuracy')\n",
        "\n",
        "plt.figure()\n",
        "\n",
        "plt.plot(epochs, loss, 'b', label='Training Loss')\n",
        "plt.title('Training loss')\n",
        "plt.legend()\n",
        "\n",
        "plt.show()"
      ],
      "execution_count": 7,
      "outputs": [
        {
          "output_type": "display_data",
          "data": {
            "image/png": "[encoded data removed]",
            "text/plain": [
              "<Figure size 432x288 with 1 Axes>"
            ]
          },
          "metadata": {
            "tags": []
          }
        },
        {
          "output_type": "display_data",
          "data": {
            "image/png": "[encoded data removed]",
            "text/plain": [
              "<Figure size 432x288 with 1 Axes>"
            ]
          },
          "metadata": {
            "tags": []
          }
        }
      ]
    },
    {
      "cell_type": "code",
      "metadata": {
        "colab_type": "code",
        "id": "6Vc6PHgxa6Hm",
        "colab": {
          "base_uri": "https://localhost:8080/",
          "height": 151
        },
        "outputId": "9aba6e0b-2831-4b3d-fadf-85fffd6fb74c"
      },
      "source": [
        "seed_text = \"Help me Obi Wan Kenobi, you're my only hope\"\n",
        "next_words = 100\n",
        "from pprint import pprint\n",
        "for _ in range(next_words):\n",
        "\ttoken_list = tokenizer.texts_to_sequences([seed_text])[0]\n",
        "\ttoken_list = pad_sequences([token_list], maxlen=max_sequence_len-1, padding='pre')\n",
        "\tpredicted = np.argmax(model.predict(token_list), axis=-1)\n",
        "\toutput_word = \"\"\n",
        "\tfor word, index in tokenizer.word_index.items():\n",
        "\t\tif index == predicted:\n",
        "\t\t\toutput_word = word\n",
        "\t\t\tbreak\n",
        "\tseed_text += \" \" + output_word\n",
        "pprint(seed_text)"
      ],
      "execution_count": 11,
      "outputs": [
        {
          "output_type": "stream",
          "text": [
            "(\"Help me Obi Wan Kenobi, you're my only hope know thy mind ever words brought \"\n",
            " 'new forth thine desert eyes young a living hue give thee up give crave lusty '\n",
            " 'face brought back back back back back ruining thorns did grow controlling '\n",
            " \"place delight inhearse relief staineth warm'd burn time give moan his height \"\n",
            " 'be mother aside brought ill new brought alone than life when so prove prove '\n",
            " \"thee bright love bright gain be white dying would see my defects ' and me so \"\n",
            " 'free brought still bright friend thee as those skill esteem new spent lies '\n",
            " 'grow new flowers flowers held bearing gain lies aside decays bar grow')\n"
          ],
          "name": "stdout"
        }
      ]
    }
  ]
}